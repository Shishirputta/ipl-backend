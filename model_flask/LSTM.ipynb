{
 "cells": [
  {
   "cell_type": "code",
   "execution_count": 1,
   "id": "855db544",
   "metadata": {},
   "outputs": [],
   "source": [
    "import pandas as pd\n",
    "import numpy as np\n",
    "from sklearn.model_selection import train_test_split\n",
    "from tensorflow.keras.models import Sequential\n",
    "from tensorflow.keras.layers import LSTM, Dense, Dropout,Input\n",
    "from tensorflow.keras.preprocessing.text import Tokenizer\n",
    "from tensorflow.keras.preprocessing.sequence import pad_sequences"
   ]
  },
  {
   "cell_type": "code",
   "execution_count": 2,
   "id": "a0fc6448",
   "metadata": {},
   "outputs": [
    {
     "data": {
      "text/html": [
       "<div>\n",
       "<style scoped>\n",
       "    .dataframe tbody tr th:only-of-type {\n",
       "        vertical-align: middle;\n",
       "    }\n",
       "\n",
       "    .dataframe tbody tr th {\n",
       "        vertical-align: top;\n",
       "    }\n",
       "\n",
       "    .dataframe thead th {\n",
       "        text-align: right;\n",
       "    }\n",
       "</style>\n",
       "<table border=\"1\" class=\"dataframe\">\n",
       "  <thead>\n",
       "    <tr style=\"text-align: right;\">\n",
       "      <th></th>\n",
       "      <th>inning</th>\n",
       "      <th>batting_team</th>\n",
       "      <th>bowling_team</th>\n",
       "      <th>over</th>\n",
       "      <th>ball</th>\n",
       "      <th>batsman</th>\n",
       "      <th>non_striker</th>\n",
       "      <th>bowler</th>\n",
       "      <th>run_per_ball</th>\n",
       "      <th>total</th>\n",
       "      <th>score</th>\n",
       "      <th>crr</th>\n",
       "    </tr>\n",
       "  </thead>\n",
       "  <tbody>\n",
       "    <tr>\n",
       "      <th>0</th>\n",
       "      <td>1</td>\n",
       "      <td>Sunrisers Hyderabad</td>\n",
       "      <td>Royal Challengers Bangalore</td>\n",
       "      <td>1</td>\n",
       "      <td>1</td>\n",
       "      <td>DA Warner</td>\n",
       "      <td>S Dhawan</td>\n",
       "      <td>TS Mills</td>\n",
       "      <td>0</td>\n",
       "      <td>207</td>\n",
       "      <td>0</td>\n",
       "      <td>0.000000</td>\n",
       "    </tr>\n",
       "    <tr>\n",
       "      <th>1</th>\n",
       "      <td>1</td>\n",
       "      <td>Sunrisers Hyderabad</td>\n",
       "      <td>Royal Challengers Bangalore</td>\n",
       "      <td>1</td>\n",
       "      <td>2</td>\n",
       "      <td>DA Warner</td>\n",
       "      <td>S Dhawan</td>\n",
       "      <td>TS Mills</td>\n",
       "      <td>0</td>\n",
       "      <td>207</td>\n",
       "      <td>0</td>\n",
       "      <td>0.000000</td>\n",
       "    </tr>\n",
       "    <tr>\n",
       "      <th>2</th>\n",
       "      <td>1</td>\n",
       "      <td>Sunrisers Hyderabad</td>\n",
       "      <td>Royal Challengers Bangalore</td>\n",
       "      <td>1</td>\n",
       "      <td>3</td>\n",
       "      <td>DA Warner</td>\n",
       "      <td>S Dhawan</td>\n",
       "      <td>TS Mills</td>\n",
       "      <td>4</td>\n",
       "      <td>207</td>\n",
       "      <td>4</td>\n",
       "      <td>1.333333</td>\n",
       "    </tr>\n",
       "    <tr>\n",
       "      <th>3</th>\n",
       "      <td>1</td>\n",
       "      <td>Sunrisers Hyderabad</td>\n",
       "      <td>Royal Challengers Bangalore</td>\n",
       "      <td>1</td>\n",
       "      <td>4</td>\n",
       "      <td>DA Warner</td>\n",
       "      <td>S Dhawan</td>\n",
       "      <td>TS Mills</td>\n",
       "      <td>0</td>\n",
       "      <td>207</td>\n",
       "      <td>4</td>\n",
       "      <td>1.000000</td>\n",
       "    </tr>\n",
       "    <tr>\n",
       "      <th>4</th>\n",
       "      <td>1</td>\n",
       "      <td>Sunrisers Hyderabad</td>\n",
       "      <td>Royal Challengers Bangalore</td>\n",
       "      <td>1</td>\n",
       "      <td>5</td>\n",
       "      <td>DA Warner</td>\n",
       "      <td>S Dhawan</td>\n",
       "      <td>TS Mills</td>\n",
       "      <td>2</td>\n",
       "      <td>207</td>\n",
       "      <td>6</td>\n",
       "      <td>1.200000</td>\n",
       "    </tr>\n",
       "    <tr>\n",
       "      <th>...</th>\n",
       "      <td>...</td>\n",
       "      <td>...</td>\n",
       "      <td>...</td>\n",
       "      <td>...</td>\n",
       "      <td>...</td>\n",
       "      <td>...</td>\n",
       "      <td>...</td>\n",
       "      <td>...</td>\n",
       "      <td>...</td>\n",
       "      <td>...</td>\n",
       "      <td>...</td>\n",
       "      <td>...</td>\n",
       "    </tr>\n",
       "    <tr>\n",
       "      <th>179073</th>\n",
       "      <td>2</td>\n",
       "      <td>Chennai Super Kings</td>\n",
       "      <td>Mumbai Indians</td>\n",
       "      <td>20</td>\n",
       "      <td>2</td>\n",
       "      <td>RA Jadeja</td>\n",
       "      <td>SR Watson</td>\n",
       "      <td>SL Malinga</td>\n",
       "      <td>1</td>\n",
       "      <td>157</td>\n",
       "      <td>152</td>\n",
       "      <td>7.238095</td>\n",
       "    </tr>\n",
       "    <tr>\n",
       "      <th>179074</th>\n",
       "      <td>2</td>\n",
       "      <td>Chennai Super Kings</td>\n",
       "      <td>Mumbai Indians</td>\n",
       "      <td>20</td>\n",
       "      <td>3</td>\n",
       "      <td>SR Watson</td>\n",
       "      <td>RA Jadeja</td>\n",
       "      <td>SL Malinga</td>\n",
       "      <td>2</td>\n",
       "      <td>157</td>\n",
       "      <td>154</td>\n",
       "      <td>7.000000</td>\n",
       "    </tr>\n",
       "    <tr>\n",
       "      <th>179075</th>\n",
       "      <td>2</td>\n",
       "      <td>Chennai Super Kings</td>\n",
       "      <td>Mumbai Indians</td>\n",
       "      <td>20</td>\n",
       "      <td>4</td>\n",
       "      <td>SR Watson</td>\n",
       "      <td>RA Jadeja</td>\n",
       "      <td>SL Malinga</td>\n",
       "      <td>1</td>\n",
       "      <td>157</td>\n",
       "      <td>155</td>\n",
       "      <td>6.739130</td>\n",
       "    </tr>\n",
       "    <tr>\n",
       "      <th>179076</th>\n",
       "      <td>2</td>\n",
       "      <td>Chennai Super Kings</td>\n",
       "      <td>Mumbai Indians</td>\n",
       "      <td>20</td>\n",
       "      <td>5</td>\n",
       "      <td>SN Thakur</td>\n",
       "      <td>RA Jadeja</td>\n",
       "      <td>SL Malinga</td>\n",
       "      <td>2</td>\n",
       "      <td>157</td>\n",
       "      <td>157</td>\n",
       "      <td>6.541667</td>\n",
       "    </tr>\n",
       "    <tr>\n",
       "      <th>179077</th>\n",
       "      <td>2</td>\n",
       "      <td>Chennai Super Kings</td>\n",
       "      <td>Mumbai Indians</td>\n",
       "      <td>20</td>\n",
       "      <td>6</td>\n",
       "      <td>SN Thakur</td>\n",
       "      <td>RA Jadeja</td>\n",
       "      <td>SL Malinga</td>\n",
       "      <td>0</td>\n",
       "      <td>157</td>\n",
       "      <td>157</td>\n",
       "      <td>6.280000</td>\n",
       "    </tr>\n",
       "  </tbody>\n",
       "</table>\n",
       "<p>179078 rows × 12 columns</p>\n",
       "</div>"
      ],
      "text/plain": [
       "        inning         batting_team                 bowling_team  over  ball  \\\n",
       "0            1  Sunrisers Hyderabad  Royal Challengers Bangalore     1     1   \n",
       "1            1  Sunrisers Hyderabad  Royal Challengers Bangalore     1     2   \n",
       "2            1  Sunrisers Hyderabad  Royal Challengers Bangalore     1     3   \n",
       "3            1  Sunrisers Hyderabad  Royal Challengers Bangalore     1     4   \n",
       "4            1  Sunrisers Hyderabad  Royal Challengers Bangalore     1     5   \n",
       "...        ...                  ...                          ...   ...   ...   \n",
       "179073       2  Chennai Super Kings               Mumbai Indians    20     2   \n",
       "179074       2  Chennai Super Kings               Mumbai Indians    20     3   \n",
       "179075       2  Chennai Super Kings               Mumbai Indians    20     4   \n",
       "179076       2  Chennai Super Kings               Mumbai Indians    20     5   \n",
       "179077       2  Chennai Super Kings               Mumbai Indians    20     6   \n",
       "\n",
       "          batsman non_striker      bowler  run_per_ball  total  score  \\\n",
       "0       DA Warner    S Dhawan    TS Mills             0    207      0   \n",
       "1       DA Warner    S Dhawan    TS Mills             0    207      0   \n",
       "2       DA Warner    S Dhawan    TS Mills             4    207      4   \n",
       "3       DA Warner    S Dhawan    TS Mills             0    207      4   \n",
       "4       DA Warner    S Dhawan    TS Mills             2    207      6   \n",
       "...           ...         ...         ...           ...    ...    ...   \n",
       "179073  RA Jadeja   SR Watson  SL Malinga             1    157    152   \n",
       "179074  SR Watson   RA Jadeja  SL Malinga             2    157    154   \n",
       "179075  SR Watson   RA Jadeja  SL Malinga             1    157    155   \n",
       "179076  SN Thakur   RA Jadeja  SL Malinga             2    157    157   \n",
       "179077  SN Thakur   RA Jadeja  SL Malinga             0    157    157   \n",
       "\n",
       "             crr  \n",
       "0       0.000000  \n",
       "1       0.000000  \n",
       "2       1.333333  \n",
       "3       1.000000  \n",
       "4       1.200000  \n",
       "...          ...  \n",
       "179073  7.238095  \n",
       "179074  7.000000  \n",
       "179075  6.739130  \n",
       "179076  6.541667  \n",
       "179077  6.280000  \n",
       "\n",
       "[179078 rows x 12 columns]"
      ]
     },
     "execution_count": 2,
     "metadata": {},
     "output_type": "execute_result"
    }
   ],
   "source": [
    "import pandas as pd\n",
    "import numpy as np\n",
    "ipl_data = pd.read_csv(\"C:\\\\Users\\\\jimen\\\\PS_project\\\\model_flask\\\\ipl_newdata.csv\")\n",
    "data=pd.DataFrame(ipl_data)\n",
    "data.columns\n",
    "ipl_data['over'] = ipl_data['over'] / 20.0  # Assuming max overs = 20\n",
    "ipl_data['ball'] = ipl_data['ball'] / 6.0   \n",
    "data.drop(\"match_id\",axis=1,inplace=True)\n",
    "data['batting_team'] = data['batting_team'].replace('Rising Pune Supergiant', 'Lucknow Supergiant')\n",
    "data['bowling_team'] = data['bowling_team'].replace('Rising Pune Supergiant', 'Lucknow Supergiant')\n",
    "data['batting_team'] = data['batting_team'].replace('Gujarat Lions', 'Gujarat Giants')\n",
    "data['bowling_team'] = data['bowling_team'].replace('Gujarat Lions', 'Gujarat Giants')\n",
    "data"
   ]
  },
  {
   "cell_type": "code",
   "execution_count": 3,
   "id": "7ba35c0b-1e4f-4869-bb91-5dfe6abd1f6a",
   "metadata": {},
   "outputs": [
    {
     "name": "stdout",
     "output_type": "stream",
     "text": [
      "Shape of X: (179077, 1, 1468)\n",
      "Shape of y: (179077,)\n"
     ]
    }
   ],
   "source": [
    "import numpy as np\n",
    "import pandas as pd\n",
    "from sklearn.preprocessing import OneHotEncoder, MinMaxScaler\n",
    "\n",
    "# Assuming 'data' is your DataFrame containing both categorical and numerical columns\n",
    "categorical_cols = ['batting_team', 'bowling_team', 'batsman', 'non_striker', 'bowler']\n",
    "numerical_cols = ['inning', 'over', 'ball', 'run_per_ball', 'score', 'crr']\n",
    "\n",
    "# One-Hot Encoding for categorical columns\n",
    "categorical_data = data[categorical_cols]\n",
    "encoder = OneHotEncoder(sparse_output=False)\n",
    "encoded_categorical_data = encoder.fit_transform(categorical_data)\n",
    "encoded_categorical_df = pd.DataFrame(encoded_categorical_data, columns=encoder.get_feature_names_out(categorical_cols))\n",
    "\n",
    "# Scaling the numerical columns\n",
    "\n",
    "\n",
    "# Combine the numerical and encoded categorical data\n",
    "final_data = pd.concat([data[numerical_cols], encoded_categorical_df], axis=1)\n",
    "\n",
    "# Define target variable 'total' and scale it\n",
    "y = data['total']\n",
    "\n",
    "\n",
    "# Prepare sequences for LSTM\n",
    "sequence_length = 1\n",
    "X_sequences, y_sequences = [], []\n",
    "\n",
    "# Loop through the data to create sequences of length 'sequence_length'\n",
    "for i in range(len(final_data) - sequence_length):\n",
    "    X_sequences.append(final_data.iloc[i:i + sequence_length].values)  # Extract sequences of features\n",
    "    y_sequences.append(y[i + sequence_length])  # Corresponding target for the sequence\n",
    "\n",
    "# Convert to numpy arrays\n",
    "X = np.array(X_sequences, dtype='float32')\n",
    "y = np.array(y_sequences, dtype='float32')\n",
    "\n",
    "# Print shapes to verify\n",
    "print(f\"Shape of X: {X.shape}\")\n",
    "print(f\"Shape of y: {y.shape}\")\n"
   ]
  },
  {
   "cell_type": "code",
   "execution_count": 4,
   "id": "9822f182-8350-4cc2-b9f5-a11dd44d58a1",
   "metadata": {},
   "outputs": [
    {
     "name": "stdout",
     "output_type": "stream",
     "text": [
      "X_train shape: (143261, 1, 1468), X_test shape: (35816, 1, 1468)\n",
      "y_train shape: (143261,), y_test shape: (35816,)\n"
     ]
    }
   ],
   "source": [
    "# Split the data\n",
    "from sklearn.model_selection import train_test_split\n",
    "\n",
    "# Split the data\n",
    "X_train, X_test, y_train, y_test = train_test_split(X, y, test_size=0.2, random_state=42)\n",
    "\n",
    "# Print shapes to verify\n",
    "print(f\"X_train shape: {X_train.shape}, X_test shape: {X_test.shape}\")\n",
    "print(f\"y_train shape: {y_train.shape}, y_test shape: {y_test.shape}\")"
   ]
  },
  {
   "cell_type": "code",
   "execution_count": 5,
   "id": "35c914cd-1570-4a64-8c6b-3887498ec86f",
   "metadata": {},
   "outputs": [
    {
     "name": "stderr",
     "output_type": "stream",
     "text": [
      "C:\\Users\\jimen\\AppData\\Roaming\\Python\\Python311\\site-packages\\keras\\src\\layers\\rnn\\rnn.py:204: UserWarning: Do not pass an `input_shape`/`input_dim` argument to a layer. When using Sequential models, prefer using an `Input(shape)` object as the first layer in the model instead.\n",
      "  super().__init__(**kwargs)\n"
     ]
    },
    {
     "data": {
      "text/html": [
       "<pre style=\"white-space:pre;overflow-x:auto;line-height:normal;font-family:Menlo,'DejaVu Sans Mono',consolas,'Courier New',monospace\"><span style=\"font-weight: bold\">Model: \"sequential\"</span>\n",
       "</pre>\n"
      ],
      "text/plain": [
       "\u001b[1mModel: \"sequential\"\u001b[0m\n"
      ]
     },
     "metadata": {},
     "output_type": "display_data"
    },
    {
     "data": {
      "text/html": [
       "<pre style=\"white-space:pre;overflow-x:auto;line-height:normal;font-family:Menlo,'DejaVu Sans Mono',consolas,'Courier New',monospace\">┏━━━━━━━━━━━━━━━━━━━━━━━━━━━━━━━━━━━━━━┳━━━━━━━━━━━━━━━━━━━━━━━━━━━━━┳━━━━━━━━━━━━━━━━━┓\n",
       "┃<span style=\"font-weight: bold\"> Layer (type)                         </span>┃<span style=\"font-weight: bold\"> Output Shape                </span>┃<span style=\"font-weight: bold\">         Param # </span>┃\n",
       "┡━━━━━━━━━━━━━━━━━━━━━━━━━━━━━━━━━━━━━━╇━━━━━━━━━━━━━━━━━━━━━━━━━━━━━╇━━━━━━━━━━━━━━━━━┩\n",
       "│ lstm (<span style=\"color: #0087ff; text-decoration-color: #0087ff\">LSTM</span>)                          │ (<span style=\"color: #00d7ff; text-decoration-color: #00d7ff\">None</span>, <span style=\"color: #00af00; text-decoration-color: #00af00\">100</span>)                 │         <span style=\"color: #00af00; text-decoration-color: #00af00\">627,600</span> │\n",
       "├──────────────────────────────────────┼─────────────────────────────┼─────────────────┤\n",
       "│ dense (<span style=\"color: #0087ff; text-decoration-color: #0087ff\">Dense</span>)                        │ (<span style=\"color: #00d7ff; text-decoration-color: #00d7ff\">None</span>, <span style=\"color: #00af00; text-decoration-color: #00af00\">1</span>)                   │             <span style=\"color: #00af00; text-decoration-color: #00af00\">101</span> │\n",
       "└──────────────────────────────────────┴─────────────────────────────┴─────────────────┘\n",
       "</pre>\n"
      ],
      "text/plain": [
       "┏━━━━━━━━━━━━━━━━━━━━━━━━━━━━━━━━━━━━━━┳━━━━━━━━━━━━━━━━━━━━━━━━━━━━━┳━━━━━━━━━━━━━━━━━┓\n",
       "┃\u001b[1m \u001b[0m\u001b[1mLayer (type)                        \u001b[0m\u001b[1m \u001b[0m┃\u001b[1m \u001b[0m\u001b[1mOutput Shape               \u001b[0m\u001b[1m \u001b[0m┃\u001b[1m \u001b[0m\u001b[1m        Param #\u001b[0m\u001b[1m \u001b[0m┃\n",
       "┡━━━━━━━━━━━━━━━━━━━━━━━━━━━━━━━━━━━━━━╇━━━━━━━━━━━━━━━━━━━━━━━━━━━━━╇━━━━━━━━━━━━━━━━━┩\n",
       "│ lstm (\u001b[38;5;33mLSTM\u001b[0m)                          │ (\u001b[38;5;45mNone\u001b[0m, \u001b[38;5;34m100\u001b[0m)                 │         \u001b[38;5;34m627,600\u001b[0m │\n",
       "├──────────────────────────────────────┼─────────────────────────────┼─────────────────┤\n",
       "│ dense (\u001b[38;5;33mDense\u001b[0m)                        │ (\u001b[38;5;45mNone\u001b[0m, \u001b[38;5;34m1\u001b[0m)                   │             \u001b[38;5;34m101\u001b[0m │\n",
       "└──────────────────────────────────────┴─────────────────────────────┴─────────────────┘\n"
      ]
     },
     "metadata": {},
     "output_type": "display_data"
    },
    {
     "data": {
      "text/html": [
       "<pre style=\"white-space:pre;overflow-x:auto;line-height:normal;font-family:Menlo,'DejaVu Sans Mono',consolas,'Courier New',monospace\"><span style=\"font-weight: bold\"> Total params: </span><span style=\"color: #00af00; text-decoration-color: #00af00\">627,701</span> (2.39 MB)\n",
       "</pre>\n"
      ],
      "text/plain": [
       "\u001b[1m Total params: \u001b[0m\u001b[38;5;34m627,701\u001b[0m (2.39 MB)\n"
      ]
     },
     "metadata": {},
     "output_type": "display_data"
    },
    {
     "data": {
      "text/html": [
       "<pre style=\"white-space:pre;overflow-x:auto;line-height:normal;font-family:Menlo,'DejaVu Sans Mono',consolas,'Courier New',monospace\"><span style=\"font-weight: bold\"> Trainable params: </span><span style=\"color: #00af00; text-decoration-color: #00af00\">627,701</span> (2.39 MB)\n",
       "</pre>\n"
      ],
      "text/plain": [
       "\u001b[1m Trainable params: \u001b[0m\u001b[38;5;34m627,701\u001b[0m (2.39 MB)\n"
      ]
     },
     "metadata": {},
     "output_type": "display_data"
    },
    {
     "data": {
      "text/html": [
       "<pre style=\"white-space:pre;overflow-x:auto;line-height:normal;font-family:Menlo,'DejaVu Sans Mono',consolas,'Courier New',monospace\"><span style=\"font-weight: bold\"> Non-trainable params: </span><span style=\"color: #00af00; text-decoration-color: #00af00\">0</span> (0.00 B)\n",
       "</pre>\n"
      ],
      "text/plain": [
       "\u001b[1m Non-trainable params: \u001b[0m\u001b[38;5;34m0\u001b[0m (0.00 B)\n"
      ]
     },
     "metadata": {},
     "output_type": "display_data"
    }
   ],
   "source": [
    "model = Sequential([\n",
    "    LSTM(100, activation='relu', input_shape=(X_train.shape[1], X_train.shape[2])),\n",
    "    Dense(1)  # Output layer for regression\n",
    "])\n",
    "\n",
    "# Compile the model\n",
    "model.compile(optimizer='adam', loss='mse', metrics=['mae']) \n",
    "model.summary()"
   ]
  },
  {
   "cell_type": "code",
   "execution_count": 6,
   "id": "9ebb5244-6ddb-4da4-92d6-62eb35c5c217",
   "metadata": {},
   "outputs": [
    {
     "name": "stdout",
     "output_type": "stream",
     "text": [
      "Epoch 1/20\n",
      "\u001b[1m4477/4477\u001b[0m \u001b[32m━━━━━━━━━━━━━━━━━━━━\u001b[0m\u001b[37m\u001b[0m \u001b[1m54s\u001b[0m 11ms/step - loss: 3174.1052 - mae: 36.9845 - val_loss: 524.9729 - val_mae: 16.8740\n",
      "Epoch 2/20\n",
      "\u001b[1m4477/4477\u001b[0m \u001b[32m━━━━━━━━━━━━━━━━━━━━\u001b[0m\u001b[37m\u001b[0m \u001b[1m47s\u001b[0m 10ms/step - loss: 484.8242 - mae: 16.2012 - val_loss: 442.4969 - val_mae: 15.4021\n",
      "Epoch 3/20\n",
      "\u001b[1m4477/4477\u001b[0m \u001b[32m━━━━━━━━━━━━━━━━━━━━\u001b[0m\u001b[37m\u001b[0m \u001b[1m48s\u001b[0m 11ms/step - loss: 427.2047 - mae: 15.1427 - val_loss: 405.7322 - val_mae: 14.6030\n",
      "Epoch 4/20\n",
      "\u001b[1m4477/4477\u001b[0m \u001b[32m━━━━━━━━━━━━━━━━━━━━\u001b[0m\u001b[37m\u001b[0m \u001b[1m47s\u001b[0m 11ms/step - loss: 382.7218 - mae: 14.3452 - val_loss: 370.3318 - val_mae: 13.9305\n",
      "Epoch 5/20\n",
      "\u001b[1m4477/4477\u001b[0m \u001b[32m━━━━━━━━━━━━━━━━━━━━\u001b[0m\u001b[37m\u001b[0m \u001b[1m45s\u001b[0m 10ms/step - loss: 336.6491 - mae: 13.4347 - val_loss: 327.0403 - val_mae: 13.1834\n",
      "Epoch 6/20\n",
      "\u001b[1m4477/4477\u001b[0m \u001b[32m━━━━━━━━━━━━━━━━━━━━\u001b[0m\u001b[37m\u001b[0m \u001b[1m44s\u001b[0m 10ms/step - loss: 302.7667 - mae: 12.7265 - val_loss: 300.2908 - val_mae: 12.5177\n",
      "Epoch 7/20\n",
      "\u001b[1m4477/4477\u001b[0m \u001b[32m━━━━━━━━━━━━━━━━━━━━\u001b[0m\u001b[37m\u001b[0m \u001b[1m47s\u001b[0m 10ms/step - loss: 270.5464 - mae: 12.0003 - val_loss: 269.7698 - val_mae: 11.8855\n",
      "Epoch 8/20\n",
      "\u001b[1m4477/4477\u001b[0m \u001b[32m━━━━━━━━━━━━━━━━━━━━\u001b[0m\u001b[37m\u001b[0m \u001b[1m45s\u001b[0m 10ms/step - loss: 240.6459 - mae: 11.2910 - val_loss: 247.6711 - val_mae: 11.3442\n",
      "Epoch 9/20\n",
      "\u001b[1m4477/4477\u001b[0m \u001b[32m━━━━━━━━━━━━━━━━━━━━\u001b[0m\u001b[37m\u001b[0m \u001b[1m49s\u001b[0m 11ms/step - loss: 219.5620 - mae: 10.7574 - val_loss: 229.1454 - val_mae: 10.9541\n",
      "Epoch 10/20\n",
      "\u001b[1m4477/4477\u001b[0m \u001b[32m━━━━━━━━━━━━━━━━━━━━\u001b[0m\u001b[37m\u001b[0m \u001b[1m52s\u001b[0m 11ms/step - loss: 195.6472 - mae: 10.1540 - val_loss: 209.5252 - val_mae: 10.4255\n",
      "Epoch 11/20\n",
      "\u001b[1m4477/4477\u001b[0m \u001b[32m━━━━━━━━━━━━━━━━━━━━\u001b[0m\u001b[37m\u001b[0m \u001b[1m55s\u001b[0m 12ms/step - loss: 178.1284 - mae: 9.5932 - val_loss: 192.5545 - val_mae: 9.8861\n",
      "Epoch 12/20\n",
      "\u001b[1m4477/4477\u001b[0m \u001b[32m━━━━━━━━━━━━━━━━━━━━\u001b[0m\u001b[37m\u001b[0m \u001b[1m54s\u001b[0m 12ms/step - loss: 162.0697 - mae: 9.1486 - val_loss: 181.5123 - val_mae: 9.5408\n",
      "Epoch 13/20\n",
      "\u001b[1m4477/4477\u001b[0m \u001b[32m━━━━━━━━━━━━━━━━━━━━\u001b[0m\u001b[37m\u001b[0m \u001b[1m56s\u001b[0m 12ms/step - loss: 148.9563 - mae: 8.7291 - val_loss: 170.9386 - val_mae: 9.2145\n",
      "Epoch 14/20\n",
      "\u001b[1m4477/4477\u001b[0m \u001b[32m━━━━━━━━━━━━━━━━━━━━\u001b[0m\u001b[37m\u001b[0m \u001b[1m57s\u001b[0m 13ms/step - loss: 138.6860 - mae: 8.3668 - val_loss: 154.3914 - val_mae: 8.7047\n",
      "Epoch 15/20\n",
      "\u001b[1m4477/4477\u001b[0m \u001b[32m━━━━━━━━━━━━━━━━━━━━\u001b[0m\u001b[37m\u001b[0m \u001b[1m52s\u001b[0m 12ms/step - loss: 126.5414 - mae: 8.0434 - val_loss: 152.8890 - val_mae: 8.7448\n",
      "Epoch 16/20\n",
      "\u001b[1m4477/4477\u001b[0m \u001b[32m━━━━━━━━━━━━━━━━━━━━\u001b[0m\u001b[37m\u001b[0m \u001b[1m45s\u001b[0m 10ms/step - loss: 116.6159 - mae: 7.6849 - val_loss: 144.2695 - val_mae: 8.3905\n",
      "Epoch 17/20\n",
      "\u001b[1m4477/4477\u001b[0m \u001b[32m━━━━━━━━━━━━━━━━━━━━\u001b[0m\u001b[37m\u001b[0m \u001b[1m46s\u001b[0m 10ms/step - loss: 110.1999 - mae: 7.4476 - val_loss: 142.3631 - val_mae: 8.4028\n",
      "Epoch 18/20\n",
      "\u001b[1m4477/4477\u001b[0m \u001b[32m━━━━━━━━━━━━━━━━━━━━\u001b[0m\u001b[37m\u001b[0m \u001b[1m45s\u001b[0m 10ms/step - loss: 103.6569 - mae: 7.1867 - val_loss: 126.7998 - val_mae: 7.7376\n",
      "Epoch 19/20\n",
      "\u001b[1m4477/4477\u001b[0m \u001b[32m━━━━━━━━━━━━━━━━━━━━\u001b[0m\u001b[37m\u001b[0m \u001b[1m46s\u001b[0m 10ms/step - loss: 97.0329 - mae: 6.9433 - val_loss: 122.1754 - val_mae: 7.5971\n",
      "Epoch 20/20\n",
      "\u001b[1m4477/4477\u001b[0m \u001b[32m━━━━━━━━━━━━━━━━━━━━\u001b[0m\u001b[37m\u001b[0m \u001b[1m48s\u001b[0m 11ms/step - loss: 91.7374 - mae: 6.7102 - val_loss: 120.5249 - val_mae: 7.5115\n"
     ]
    }
   ],
   "source": [
    "# train\n",
    "history = model.fit(X_train, y_train, epochs=20, batch_size=32, validation_data=(X_test, y_test))\n"
   ]
  },
  {
   "cell_type": "code",
   "execution_count": 7,
   "id": "e243e596-22c9-4efd-80d4-8e757c3caa3b",
   "metadata": {},
   "outputs": [
    {
     "name": "stdout",
     "output_type": "stream",
     "text": [
      "\u001b[1m1120/1120\u001b[0m \u001b[32m━━━━━━━━━━━━━━━━━━━━\u001b[0m\u001b[37m\u001b[0m \u001b[1m4s\u001b[0m 3ms/step - loss: 121.8469 - mae: 7.4936\n",
      "Test Loss: [120.52494812011719, 7.511495590209961]\n"
     ]
    }
   ],
   "source": [
    "loss = model.evaluate(X_test, y_test)\n",
    "print(f\"Test Loss: {loss}\")\n"
   ]
  },
  {
   "cell_type": "code",
   "execution_count": 8,
   "id": "c78c7f73-d657-49e0-8ec8-69fcf3c128e9",
   "metadata": {},
   "outputs": [
    {
     "name": "stdout",
     "output_type": "stream",
     "text": [
      "\u001b[1m1120/1120\u001b[0m \u001b[32m━━━━━━━━━━━━━━━━━━━━\u001b[0m\u001b[37m\u001b[0m \u001b[1m4s\u001b[0m 3ms/step\n"
     ]
    }
   ],
   "source": [
    "predictions = model.predict(X_test)\n"
   ]
  },
  {
   "cell_type": "code",
   "execution_count": 10,
   "id": "54472bfa-253d-4692-8015-2ae439f16b7c",
   "metadata": {},
   "outputs": [
    {
     "name": "stdout",
     "output_type": "stream",
     "text": [
      "\u001b[1m1120/1120\u001b[0m \u001b[32m━━━━━━━━━━━━━━━━━━━━\u001b[0m\u001b[37m\u001b[0m \u001b[1m4s\u001b[0m 3ms/step\n",
      "Mean Absolute Error (MAE): 7.511496067047119\n",
      "Mean Squared Error (MSE): 120.52497863769531\n",
      "Root Mean Squared Error (RMSE): 10.978386878967285\n",
      "R² Score: 0.8696328997612\n"
     ]
    }
   ],
   "source": [
    "from sklearn.metrics import mean_absolute_error, mean_squared_error, r2_score\n",
    "import numpy as np\n",
    "\n",
    "# Predictions from the model\n",
    "predictions = model.predict(X_test)\n",
    "# Calculate metrics\n",
    "mae = mean_absolute_error(y_test, predictions)\n",
    "mse = mean_squared_error(y_test, predictions)\n",
    "rmse = np.sqrt(mse)\n",
    "r2 = r2_score(y_test,predictions)\n",
    "\n",
    "# Print results\n",
    "print(f\"Mean Absolute Error (MAE): {mae}\")\n",
    "print(f\"Mean Squared Error (MSE): {mse}\")\n",
    "print(f\"Root Mean Squared Error (RMSE): {rmse}\")\n",
    "print(f\"R² Score: {r2}\")\n"
   ]
  },
  {
   "cell_type": "code",
   "execution_count": 11,
   "id": "f5e55ecf-92ad-4c4e-8fb0-71b7e44d2f3e",
   "metadata": {},
   "outputs": [],
   "source": [
    "import pickle\n",
    "# Save the One-Hot Encoder\n",
    "with open('one_hot_encoder.pkl', 'wb') as encoder_file:\n",
    "    pickle.dump(encoder, encoder_file)\n",
    "\n",
    "# Save the Model\n",
    "with open('model.pkl', 'wb') as model_file:\n",
    "    pickle.dump(model, model_file)"
   ]
  },
  {
   "cell_type": "code",
   "execution_count": 2,
   "id": "6a963fef-7097-4424-8b3a-cad8e51148a7",
   "metadata": {},
   "outputs": [
    {
     "name": "stdout",
     "output_type": "stream",
     "text": [
      "          batting_team                 bowling_team    batsman non_striker  \\\n",
      "0  Sunrisers Hyderabad  Royal Challengers Bangalore  DA Warner    S Dhawan   \n",
      "\n",
      "     bowler  inning  over  ball  run_per_ball  score  crr  \n",
      "0  TS Mills       1    15     3           6.5     60  6.0  \n",
      "   inning  over  ball  run_per_ball  score  crr  \\\n",
      "0       1    15     3           6.5     60  6.0   \n",
      "\n",
      "   batting_team_Chennai Super Kings  batting_team_Deccan Chargers  \\\n",
      "0                               0.0                           0.0   \n",
      "\n",
      "   batting_team_Delhi Capitals  batting_team_Delhi Daredevils  ...  \\\n",
      "0                          0.0                            0.0  ...   \n",
      "\n",
      "   bowler_WPUJC Vaas  bowler_Washington Sundar  bowler_Y Gnaneswara Rao  \\\n",
      "0                0.0                       0.0                      0.0   \n",
      "\n",
      "   bowler_Y Nagar  bowler_Y Venugopal Rao  bowler_YA Abdulla  \\\n",
      "0             0.0                     0.0                0.0   \n",
      "\n",
      "   bowler_YK Pathan  bowler_YS Chahal  bowler_Yuvraj Singh  bowler_Z Khan  \n",
      "0               0.0               0.0                  0.0            0.0  \n",
      "\n",
      "[1 rows x 1468 columns]\n",
      "\u001b[1m1/1\u001b[0m \u001b[32m━━━━━━━━━━━━━━━━━━━━\u001b[0m\u001b[37m\u001b[0m \u001b[1m0s\u001b[0m 323ms/step\n",
      "Predicted Output: [[163.44032]]\n"
     ]
    }
   ],
   "source": [
    "import pandas as pd\n",
    "import numpy as np\n",
    "import pickle\n",
    "from sklearn.preprocessing import OneHotEncoder, MinMaxScaler\n",
    "\n",
    "# Load the pre-trained model, encoder, and scaler\n",
    "with open('model.pkl', 'rb') as model_file:\n",
    "    model = pickle.load(model_file)\n",
    "\n",
    "with open('one_hot_encoder.pkl', 'rb') as encoder_file:\n",
    "    encoder = pickle.load(encoder_file)\n",
    "\n",
    "\n",
    "\n",
    "# Example user input\n",
    "user_input = [\n",
    "    ['Sunrisers Hyderabad', 'Royal Challengers Bangalore', 'DA Warner', 'S Dhawan', 'TS Mills', 1, 15, 3, 6.5, 60, 6.0]\n",
    "]\n",
    "\n",
    "# Convert the user input to a DataFrame (to make it consistent with the data you used for training)\n",
    "user_input_df = pd.DataFrame(user_input, columns=['batting_team', 'bowling_team', 'batsman', 'non_striker', 'bowler', 'inning', 'over', 'ball', 'run_per_ball', 'score', 'crr'])\n",
    "print(user_input_df)\n",
    "# Separate the categorical and numerical columns\n",
    "categorical_cols = ['batting_team', 'bowling_team', 'batsman', 'non_striker', 'bowler']\n",
    "numerical_cols = ['inning', 'over', 'ball', 'run_per_ball', 'score', 'crr']\n",
    "\n",
    "# Apply OneHotEncoder to the categorical columns (using the fitted encoder)\n",
    "encoded_categorical_data = encoder.transform(user_input_df[categorical_cols])\n",
    "encoded_categorical_df = pd.DataFrame(encoded_categorical_data, columns=encoder.get_feature_names_out(categorical_cols))\n",
    "\n",
    "# Combine the scaled numerical data and encoded categorical data\n",
    "final_input = pd.concat([user_input_df[numerical_cols], encoded_categorical_df], axis=1)\n",
    "# Convert the final input to numpy array for the model\n",
    "final_input_np = np.array(final_input)\n",
    "final_input_np = final_input_np.reshape((1, 1, 1468))\n",
    "\n",
    "# Make the prediction\n",
    "prediction = model.predict(final_input_np)\n",
    "\n",
    "# Print the prediction\n",
    "print(f\"Predicted Output: {prediction}\")\n"
   ]
  },
  {
   "cell_type": "code",
   "execution_count": null,
   "id": "42611620-403d-4d87-aa88-619a511541da",
   "metadata": {},
   "outputs": [],
   "source": []
  }
 ],
 "metadata": {
  "kernelspec": {
   "display_name": "Python 3 (ipykernel)",
   "language": "python",
   "name": "python3"
  },
  "language_info": {
   "codemirror_mode": {
    "name": "ipython",
    "version": 3
   },
   "file_extension": ".py",
   "mimetype": "text/x-python",
   "name": "python",
   "nbconvert_exporter": "python",
   "pygments_lexer": "ipython3",
   "version": "3.11.5"
  }
 },
 "nbformat": 4,
 "nbformat_minor": 5
}
